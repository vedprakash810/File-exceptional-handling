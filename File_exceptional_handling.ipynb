{
  "nbformat": 4,
  "nbformat_minor": 0,
  "metadata": {
    "colab": {
      "provenance": []
    },
    "kernelspec": {
      "name": "python3",
      "display_name": "Python 3"
    },
    "language_info": {
      "name": "python"
    }
  },
  "cells": [
    {
      "cell_type": "code",
      "execution_count": null,
      "metadata": {
        "id": "HIZm9bLUSVx1"
      },
      "outputs": [],
      "source": []
    },
    {
      "cell_type": "markdown",
      "source": [
        "**Files, exceptional handling, logging and\n",
        "memory management**\n",
        "1. What is the difference between interpreted and compiled languages?\n",
        "\n",
        "Ans- A compiled language is converted into machine code so that the processor can execute it. An interpreted language is a language in which the implementations execute instructions directly without earlier compiling a program into machine language. The compiled programs run faster than interpreted programs.\n",
        "2. What is exception handling in Python?\n",
        "\n",
        "Ans- Exception handling in Python is a way to respond to unexpected errors that can cause a program to terminate.\n",
        "3. What is the purpose of the finally block in exception handling?\n",
        "\n",
        "Ans- The purpose of a finally block in exception handling is to ensure that important code is executed, regardless of whether an exception is thrown.\n",
        "4. What is logging in Python?\n",
        "\n",
        "Ans-Python logging is a module that allows you to track events that occur while your program is running.\n",
        "5. What is the significance of the __del__ method in Python?\n",
        "\n",
        "Ans- The del method in Python, also known as a destructor method, is called when an object is about to be destroyed. It's used to perform cleanup, release resources, or other finalization actions.\n",
        "6. What is the difference between import and from ... import in Python?\n",
        "\n",
        "Ans-  If you use import statement only than you can use all the functionality of that module but if you use from and import together than you can only use the specific functionality.   \n",
        "7. How can you handle multiple exceptions in Python?\n",
        "\n",
        "Ans- In Python, you can handle multiple exceptions in a single try-except block by using a tuple of exception types.\n",
        "8. What is the purpose of the with statement when handling files in Python?\n",
        "\n",
        "Ans- The with statement in Python is used to simplify the management of resources that need to be acquired and released in a specific order.\n",
        "9. What is the difference between multithreading and multiprocessing?\n",
        "\n",
        "Ans- Multithreading-\n",
        "Uses a single process with multiple threads to run concurrently. Each thread runs a process, and all threads share the resources of that process. Multithreading is quick to create and requires few resources.\n",
        "\n",
        "Multiprocessing-\n",
        "Uses multiple processors to run multiple processes in parallel. Each processor can run one or more threads, and each process has its own dedicated resources.\n",
        "10. What are the advantages of using logging in a program?\n",
        "\n",
        "Ans- Logging in a program has many advantages:\n",
        "\n",
        "Troubleshooting-\n",
        "Logging records all system activity, which makes it easy to track down and fix issues.\n",
        "\n",
        "Security-\n",
        "Logging records all user actions, which can help identify suspicious behavior.\n",
        "Monitoring-\n",
        "Logging can help developers monitor applications and identify issues by tracking user and process actions.\n",
        "\n",
        "Better than print statements-\n",
        "Logging is more flexible than print statements, which can't be turned off without changing the source code.\n",
        "\n",
        "11. What is memory management in Python?\n",
        "\n",
        "Ans- Memory management in Python is the process of automatically allocating and releasing memory to ensure that programs run efficiently.\n",
        "12. What are the basic steps involved in exception handling in Python?\n",
        "\n",
        "Ans- The basic steps in exception handling in Python are:\n",
        "\n",
        "Test code: Use the try block to test code where exceptions are likely to occur.\n",
        "\n",
        "Handle exceptions: If an exception occurs, Python looks for a matching block to handle it. The except block is executed if an exception is raised in the try block.\n",
        "\n",
        "Continue running: After the block is executed, the program continues running as usual.\n",
        "13. Why is memory management important in Python?\n",
        "\n",
        "Ans- Memory management is important in Python because it helps ensure that memory is used efficiently, which can lead to faster processing times and less demand on other system resources.\n",
        "14. What is the role of try and except in exception handling?\n",
        "\n",
        "Ans- In Python, the try and except blocks are used to handle exceptions, or errors, that can occur in a program.\n",
        "15. How does Python's garbage collection system work?\n",
        "\n",
        "Ans- Python's garbage collection (GC) is an automated process that manages memory by identifying and removing objects that are no longer in use.\n",
        "16. What is the purpose of the else block in exception handling?\n",
        "\n",
        "Ans- The else block lets you execute code when there is no error.\n",
        "17. What are the common logging levels in Python?\n",
        "\n",
        "Ans- Python's logging module has six standard logging levels that indicate the severity of an event:\n",
        "\n",
        "Notset: The default setting of a log.\n",
        "\n",
        "Debug: The least threatening level, with detailed information for diagnosing issues.\n",
        "\n",
        "Info: Confirmation that the application is working as expected\n",
        "Warning: An indication that something unexpected happened, or a potential problem might arise soon.\n",
        "\n",
        "Error: Indicates a significant issue that has prevented certain functions from executing.\n",
        "\n",
        "Critical: A severe error suggesting that the program may be unable to continue running.\n",
        "18. What is the difference between os.fork() and multiprocessing in Python?\n",
        "\n",
        "Ans-The fork method is only supported on POSIX-based systems like Linux and macOS (not Windows), whereas the spawn start method is supported on all platforms. A major difference between the two start methods is speed.  It is generally considered that forking a process is faster than multiprocessing.\n",
        "19. What is the importance of closing a file in Python?\n",
        "\n",
        "Ans- Because files are limited resources managed by the operating system, making sure files are closed after use will protect against hard-to-debug issues like running out of file handles or experiencing corrupted data.\n",
        "20. What is the difference between file.read() and file.readline() in Python?\n",
        "\n",
        "Ans- Read method reads the whole file as a single string while readlines segregates each of the line in the file and you then can later on call them line by line.\n",
        "21.  What is the logging module in Python used for?\n",
        "\n",
        "Ans- Python logging is a module that allows you to track events that occur while your program is running.\n",
        "22. What is the os module in Python used for in file handling?\n",
        "\n",
        "Ans- Python has a built-in os module with methods for interacting with the operating system, like creating files and directories, management of files and directories, input, output, environment variables, process management, etc.\n",
        "23. What are the challenges associated with memory management in Python?\n",
        "\n",
        "Ans- Some challenges with memory management in Python:\n",
        "\n",
        "Slower program runtimes-\n",
        "Python may hold freed memory in the interpreter instead of freeing it up for the operating system.\n",
        "\n",
        "Memory exhaustion-\n",
        "Without proper garbage collection, unused memory can accumulate over time, leading to memory exhaustion.\n",
        "\n",
        "Performance degradation-\n",
        "Improper memory management can slow down the application and server components.\n",
        "24.  How do you raise an exception manually in Python?\n",
        "\n",
        "Ans- To throw (or raise) an exception, use the raise keyword.\n",
        "25. Why is it important to use multithreading in certain applications?\n",
        "\n",
        "Ans- Multithreading is important in certain applications because it allows for concurrent execution of multiple tasks within a single program.\n",
        "\n",
        "\n",
        "\n"
      ],
      "metadata": {
        "id": "24vtgmMDSgWo"
      }
    },
    {
      "cell_type": "code",
      "source": [
        "# Practical\n",
        "# 1. How can you open a file for writing in Python and write a string to it.\n",
        "# Open the file in write mode ('w')\n",
        "with open('my_file.txt', 'w') as file:\n",
        "    # Write a string to the file\n",
        "    file.write('This is my string.')\n"
      ],
      "metadata": {
        "id": "xpD1dsYknOyr"
      },
      "execution_count": 1,
      "outputs": []
    },
    {
      "cell_type": "code",
      "source": [
        "# 2. Write a Python program to read the contents of a file and print each line.\n",
        "with open('my_file.txt', 'r') as file:\n",
        "    for line in file:\n",
        "        print(line, end='')\n"
      ],
      "metadata": {
        "colab": {
          "base_uri": "https://localhost:8080/"
        },
        "id": "wtExP5dYndGa",
        "outputId": "4a37ca37-3d60-4f42-f337-8bd827cfbcf7"
      },
      "execution_count": 2,
      "outputs": [
        {
          "output_type": "stream",
          "name": "stdout",
          "text": [
            "This is my string."
          ]
        }
      ]
    },
    {
      "cell_type": "code",
      "source": [
        "# 3. How would you handle a case where the file doesn't exist while trying to open it for reading?\n",
        "try:\n",
        "    with open('my_file.txt', 'r') as file:\n",
        "        # Code to read the file's contents\n",
        "        for line in file:\n",
        "            print(line, end='')\n",
        "except FileNotFoundError:\n",
        "    print(\"The file 'my_file.txt' was not found.\")\n"
      ],
      "metadata": {
        "colab": {
          "base_uri": "https://localhost:8080/"
        },
        "id": "UfanUMVJo6JA",
        "outputId": "050b576e-2138-4ddf-c983-7e7ff970a09e"
      },
      "execution_count": 3,
      "outputs": [
        {
          "output_type": "stream",
          "name": "stdout",
          "text": [
            "This is my string."
          ]
        }
      ]
    },
    {
      "cell_type": "code",
      "source": [
        "# 4. Write a Python script that reads from one file and writes its content to another file.\n",
        "with open('source_file.txt', 'r') as source_file, open('destination_file.txt', 'w') as destination_file:\n",
        "    content = source_file.read()\n",
        "    destination_file.write(content)\n",
        "    print(\"Content from 'source_file.txt' has been copied to 'destination_file.txt'.\")"
      ],
      "metadata": {
        "id": "1I4m2zf8pZwi"
      },
      "execution_count": null,
      "outputs": []
    },
    {
      "cell_type": "code",
      "source": [
        "# 5.How would you catch and handle division by zero error in Python?\n",
        "try:\n",
        "    result = 10 / 0\n",
        "except ZeroDivisionError:\n",
        "    print(\"Error: Division by zero is not allowed.\")\n"
      ],
      "metadata": {
        "colab": {
          "base_uri": "https://localhost:8080/"
        },
        "id": "fRxWAdDSqHnJ",
        "outputId": "14df088a-0819-4366-df5b-7f7117a16ca4"
      },
      "execution_count": 6,
      "outputs": [
        {
          "output_type": "stream",
          "name": "stdout",
          "text": [
            "Error: Division by zero is not allowed.\n"
          ]
        }
      ]
    },
    {
      "cell_type": "code",
      "source": [
        "# 6. Write a Python program that logs an error message to a log file when a division by zero exception occurs.\n",
        "import logging\n",
        "\n",
        "logging.basicConfig(filename='error_log.txt', level=logging.ERROR)\n",
        "\n",
        "try:\n",
        "    result = 10 / 0\n",
        "except ZeroDivisionError:\n",
        "    logging.error(\"Division by zero error occurred.\")"
      ],
      "metadata": {
        "colab": {
          "base_uri": "https://localhost:8080/"
        },
        "id": "BLd8rd3lqtu-",
        "outputId": "ea202a52-0958-410a-d03c-945cff91641c"
      },
      "execution_count": 7,
      "outputs": [
        {
          "output_type": "stream",
          "name": "stderr",
          "text": [
            "ERROR:root:Division by zero error occurred.\n"
          ]
        }
      ]
    },
    {
      "cell_type": "code",
      "source": [
        "# 7. How do you log information at different levels (INFO, ERROR, WARNING) in Python using the logging module?\n",
        "import logging\n",
        "\n",
        "logging.basicConfig(filename='log.txt', level=logging.INFO)\n",
        "\n",
        "logging.info(\"This is an informational message.\")\n",
        "\n",
        "logging.warning(\"This is a warning message.\")\n",
        "\n",
        "logging.error(\"This is an error message.\")"
      ],
      "metadata": {
        "colab": {
          "base_uri": "https://localhost:8080/"
        },
        "id": "CSnEYRVOq7JR",
        "outputId": "cd0d42a7-f972-4760-89f7-b12c274a0168"
      },
      "execution_count": 8,
      "outputs": [
        {
          "output_type": "stream",
          "name": "stderr",
          "text": [
            "WARNING:root:This is a warning message.\n",
            "ERROR:root:This is an error message.\n"
          ]
        }
      ]
    },
    {
      "cell_type": "code",
      "source": [
        "# 8. Write a program to handle a file opening error using exception handling.\n",
        "try:\n",
        "    with open('nonexistent_file.txt', 'r') as file:\n",
        "        content = file.read()\n",
        "except FileNotFoundError:\n",
        "    print(\"Error: The file 'nonexistent_file.txt' was not found.\")"
      ],
      "metadata": {
        "colab": {
          "base_uri": "https://localhost:8080/"
        },
        "id": "mmSsiS9erJah",
        "outputId": "eadcd7bc-ab5c-47a7-966a-0e1b4177c465"
      },
      "execution_count": 9,
      "outputs": [
        {
          "output_type": "stream",
          "name": "stdout",
          "text": [
            "Error: The file 'nonexistent_file.txt' was not found.\n"
          ]
        }
      ]
    },
    {
      "cell_type": "code",
      "source": [
        "# 9. How can you read a file line by line and store its content in a list in Python?\n",
        "with open('my_file.txt', 'r') as file:\n",
        "    lines = file.readlines()\n",
        "\n",
        "for line in lines:\n",
        "    print(line, end='')"
      ],
      "metadata": {
        "colab": {
          "base_uri": "https://localhost:8080/"
        },
        "id": "xNMaMVOhrp9z",
        "outputId": "905f2835-4577-4421-a56b-13adf6b32ba3"
      },
      "execution_count": 10,
      "outputs": [
        {
          "output_type": "stream",
          "name": "stdout",
          "text": [
            "This is my string."
          ]
        }
      ]
    },
    {
      "cell_type": "code",
      "source": [
        "# 10. How can you append data to an existing file in Python?\n",
        "with open('my_file.txt', 'a') as file:\n",
        "    file.write('\\nThis is the second line.')\n",
        "    print(\"Data has been appended to 'my_file.txt'.\")\n",
        ""
      ],
      "metadata": {
        "colab": {
          "base_uri": "https://localhost:8080/"
        },
        "id": "WCwtOCh9r3fA",
        "outputId": "e203ee84-1c46-46b2-e490-fa284e7317d8"
      },
      "execution_count": 11,
      "outputs": [
        {
          "output_type": "stream",
          "name": "stdout",
          "text": [
            "Data has been appended to 'my_file.txt'.\n"
          ]
        }
      ]
    },
    {
      "cell_type": "code",
      "source": [
        "# 11.  Write a Python program that uses a try-except block to handle an error when attempting to access a dictionary key that doesn't exist.\n",
        "my_dict = {'a': 1, 'b': 2, 'c': 3}\n",
        "\n",
        "try:\n",
        "    value = my_dict['d']\n",
        "except KeyError:\n",
        "    print(\"Error: The key 'd' does not exist in the dictionary.\")\n",
        ""
      ],
      "metadata": {
        "colab": {
          "base_uri": "https://localhost:8080/"
        },
        "id": "PCABJ3IlsI_q",
        "outputId": "13e49aad-502c-4399-af32-d4300c9e3061"
      },
      "execution_count": 12,
      "outputs": [
        {
          "output_type": "stream",
          "name": "stdout",
          "text": [
            "Error: The key 'd' does not exist in the dictionary.\n"
          ]
        }
      ]
    },
    {
      "cell_type": "code",
      "source": [
        "# 12.Write a program that demonstrates using multiple except blocks to handle different types of exceptions.\n",
        "try:\n",
        "    result = 10 / 0\n",
        "except ZeroDivisionError:\n",
        "    print(\"Error: Division by zero is not allowed.\")\n",
        "except ValueError:\n",
        "    print(\"Error: Invalid value.\")\n",
        "\n"
      ],
      "metadata": {
        "colab": {
          "base_uri": "https://localhost:8080/"
        },
        "id": "fy_xowt2sc98",
        "outputId": "dd33bcea-77da-4059-90aa-45d14a3c45a8"
      },
      "execution_count": 13,
      "outputs": [
        {
          "output_type": "stream",
          "name": "stdout",
          "text": [
            "Error: Division by zero is not allowed.\n"
          ]
        }
      ]
    },
    {
      "cell_type": "code",
      "source": [
        "# 13. How would you check if a file exists before attempting to read it in Python?\n",
        "import os\n",
        "\n",
        "file_path = 'my_file.txt'\n",
        "\n",
        "if os.path.exists(file_path):\n",
        "    with open(file_path, 'r') as file:\n",
        "        content = file.read()\n",
        "        print(\"File content:\")\n",
        "        print(content)\n",
        "else:\n",
        "    print(f\"The file '{file_path}' does not exist.\")"
      ],
      "metadata": {
        "colab": {
          "base_uri": "https://localhost:8080/"
        },
        "id": "HDuvKnX1tBqg",
        "outputId": "520c940f-3d54-4eb4-e275-5fd5c77f1e52"
      },
      "execution_count": 14,
      "outputs": [
        {
          "output_type": "stream",
          "name": "stdout",
          "text": [
            "File content:\n",
            "This is my string.\n",
            "This is the second line.\n"
          ]
        }
      ]
    },
    {
      "cell_type": "code",
      "source": [
        "# 14. Write a program that uses the logging module to log both informational and error messages.\n",
        "import logging\n",
        "\n",
        "logging.basicConfig(filename='log.txt', level=logging.INFO)\n",
        "\n",
        "logging.info(\"This is an informational message.\")\n"
      ],
      "metadata": {
        "id": "1lHA636otVMk"
      },
      "execution_count": 15,
      "outputs": []
    },
    {
      "cell_type": "code",
      "source": [
        "# 15. Write a Python program that prints the content of a file and handles the case when the file is empty.\n",
        "try:\n",
        "    with open('my_file.txt', 'r') as file:\n",
        "        content = file.read()\n",
        "        if content:\n",
        "            print(\"File content:\")\n",
        "            print(content)\n",
        "        else:\n",
        "            print(\"The file is empty.\")\n",
        "\n",
        "except FileNotFoundError:\n",
        "    print(\"Error: The file 'my_file.txt' was not found.\")"
      ],
      "metadata": {
        "colab": {
          "base_uri": "https://localhost:8080/"
        },
        "id": "tcVe59z8tlgf",
        "outputId": "188a858a-9d7f-4744-f93f-afbf24391261"
      },
      "execution_count": 16,
      "outputs": [
        {
          "output_type": "stream",
          "name": "stdout",
          "text": [
            "File content:\n",
            "This is my string.\n",
            "This is the second line.\n"
          ]
        }
      ]
    },
    {
      "cell_type": "code",
      "source": [
        "# 16. Demonstrate how to use memory profiling to check the memory usage of a small program.\n",
        "\n",
        "\n",
        "def my_function():\n",
        "    # Your code here\n",
        "    a = [1] * (10 ** 6)  # Create a large list\n",
        "    b = [2] * (2 * 10 ** 7)  # Create an even larger list\n",
        "    del b  # Delete b to observe memory release\n",
        "    return a\n",
        "\n",
        "if __name__ == '__main__':\n",
        "    my_function()"
      ],
      "metadata": {
        "id": "c_XU9NSat0aF"
      },
      "execution_count": 18,
      "outputs": []
    },
    {
      "cell_type": "code",
      "source": [
        "# 17. Write a Python program to create and write a list of numbers to a file, one number per line.\n",
        "numbers = [1, 2, 3, 4, 5]\n",
        "\n",
        "with open('numbers.txt', 'w') as file:\n",
        "    for number in numbers:\n",
        "        file.write(str(number) + '\\n')\n",
        ""
      ],
      "metadata": {
        "id": "9pHFJcfdvAsX"
      },
      "execution_count": 19,
      "outputs": []
    },
    {
      "cell_type": "code",
      "source": [
        "# 18. How would you implement a basic logging setup that logs to a file with rotation after 1MB?\n",
        "import logging\n",
        "from logging.handlers import RotatingFileHandler\n",
        "\n",
        "# Configure the logging\n",
        "logging.basicConfig(\n",
        "    level=logging.INFO,\n",
        "    format='%(asctime)s - %(levelname)s - %(message)s',\n",
        "    handlers=[\n",
        "        RotatingFileHandler(\n",
        "            'app.log',\n",
        "            maxBytes=1024 * 1024,  # 1 MB\n",
        "            backupCount=5\n",
        "        )\n",
        "    ]\n",
        ")\n",
        "\n",
        "# Log some messages\n",
        "logging.info('This is an info message.')\n",
        "\n",
        ""
      ],
      "metadata": {
        "id": "qfiu2k_BvRwQ"
      },
      "execution_count": 20,
      "outputs": []
    },
    {
      "cell_type": "code",
      "source": [
        "# 19. Write a program that handles both IndexError and KeyError using a try-except block.\n",
        "my_list = [1, 2, 3]\n",
        "\n",
        "try:\n",
        "    value = my_list[3]\n",
        "except IndexError:\n",
        "    print(\"Error: Index out of range.\")\n",
        "except KeyError:\n",
        "    print(\"Error: Key not found in dictionary.\")\n",
        ""
      ],
      "metadata": {
        "colab": {
          "base_uri": "https://localhost:8080/"
        },
        "id": "BAMdx9eJvroM",
        "outputId": "d5f90f77-b530-422a-e5d7-154e7b4f5c89"
      },
      "execution_count": 21,
      "outputs": [
        {
          "output_type": "stream",
          "name": "stdout",
          "text": [
            "Error: Index out of range.\n"
          ]
        }
      ]
    },
    {
      "cell_type": "code",
      "source": [
        "# 20 How would you open a file and read its contents using a context manager in Python?\n",
        "with open('my_file.txt', 'r') as file:\n",
        "    content = file.read()\n",
        "    print(\"File content:\")\n",
        "    print(content)\n",
        ""
      ],
      "metadata": {
        "colab": {
          "base_uri": "https://localhost:8080/"
        },
        "id": "8JNI6sshv8-2",
        "outputId": "932afdd2-b124-42c0-92ec-aaee29768ed6"
      },
      "execution_count": 22,
      "outputs": [
        {
          "output_type": "stream",
          "name": "stdout",
          "text": [
            "File content:\n",
            "This is my string.\n",
            "This is the second line.\n"
          ]
        }
      ]
    },
    {
      "cell_type": "code",
      "source": [
        "#21. Write a Python program that reads a file and prints the number of occurrences of a specific word.\n",
        "word_to_count = 'Python'\n",
        "\n",
        "with open('my_file.txt', 'r') as file:\n",
        "    content = file.read()\n",
        "    words = content.split()\n",
        "    count = words.count(word_to_count)\n",
        "    print(f\"The word '{word_to_count}' appears {count} times in the file.\")\n",
        ""
      ],
      "metadata": {
        "colab": {
          "base_uri": "https://localhost:8080/"
        },
        "id": "-vdAou5PwH_S",
        "outputId": "be59b246-fba2-4ca8-bde1-c692ed1294c5"
      },
      "execution_count": 23,
      "outputs": [
        {
          "output_type": "stream",
          "name": "stdout",
          "text": [
            "The word 'Python' appears 0 times in the file.\n"
          ]
        }
      ]
    },
    {
      "cell_type": "code",
      "source": [
        "# 22.  How can you check if a file is empty before attempting to read its contents?\n",
        "with open('my_file.txt', 'r') as file:\n",
        "    content = file.read()\n",
        "    if content:\n",
        "        print(\"File is not empty.\")\n",
        "    else:\n",
        "        print(\"File is empty.\")\n",
        ""
      ],
      "metadata": {
        "colab": {
          "base_uri": "https://localhost:8080/"
        },
        "id": "PmP7e37QwhoY",
        "outputId": "2793652d-6e9f-4d4a-dc14-114060116a55"
      },
      "execution_count": 24,
      "outputs": [
        {
          "output_type": "stream",
          "name": "stdout",
          "text": [
            "File is not empty.\n"
          ]
        }
      ]
    },
    {
      "cell_type": "code",
      "source": [
        "# 23. Write a Python program that writes to a log file when an error occurs during file handling.\n",
        "import logging\n",
        "\n",
        "logging.basicConfig(filename='error_log.txt', level=logging.ERROR)\n",
        "\n",
        "try:\n",
        "    with open('nonexistent_file.txt', 'r') as file:\n",
        "        content = file.read()\n",
        "except FileNotFoundError:\n",
        "    logging.error\n",
        ""
      ],
      "metadata": {
        "id": "chiUXuDxwyl4"
      },
      "execution_count": 25,
      "outputs": []
    },
    {
      "cell_type": "code",
      "source": [],
      "metadata": {
        "id": "__JgAm2JxM4f"
      },
      "execution_count": null,
      "outputs": []
    }
  ]
}